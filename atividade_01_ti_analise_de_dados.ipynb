{
  "nbformat": 4,
  "nbformat_minor": 0,
  "metadata": {
    "colab": {
      "provenance": [],
      "authorship_tag": "ABX9TyNqDqvryRjNBpqOAr2Of6wx",
      "include_colab_link": true
    },
    "kernelspec": {
      "name": "python3",
      "display_name": "Python 3"
    },
    "language_info": {
      "name": "python"
    }
  },
  "cells": [
    {
      "cell_type": "markdown",
      "metadata": {
        "id": "view-in-github",
        "colab_type": "text"
      },
      "source": [
        "<a href=\"https://colab.research.google.com/github/JuliaFaraone/CARTORIOEBAC/blob/main/atividade_01_ti_analise_de_dados.ipynb\" target=\"_parent\"><img src=\"https://colab.research.google.com/assets/colab-badge.svg\" alt=\"Open In Colab\"/></a>"
      ]
    },
    {
      "cell_type": "markdown",
      "source": [
        "![image.png](data:image/png;base64,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)"
      ],
      "metadata": {
        "id": "O-39r4ZR4xvq"
      }
    },
    {
      "cell_type": "markdown",
      "source": [
        "# ***ATIVIDADE 3 E 4 ***\n",
        "\n",
        "> STRINGS E BOOLEANOS\n",
        "\n",
        "\n"
      ],
      "metadata": {
        "id": "SjFI6wxfKlcz"
      }
    },
    {
      "cell_type": "code",
      "source": [
        "cancao = 'Roda mundo, roda gigante, roda moinho, roda pião.'\n",
        "\n",
        "cancao.upper()"
      ],
      "metadata": {
        "colab": {
          "base_uri": "https://localhost:8080/",
          "height": 35
        },
        "id": "_B-M1ch9y906",
        "outputId": "f8849672-573e-4d3e-8603-5f2283711ab2"
      },
      "execution_count": 6,
      "outputs": [
        {
          "output_type": "execute_result",
          "data": {
            "text/plain": [
              "'RODA MUNDO, RODA GIGANTE, RODA MOINHO, RODA PIÃO.'"
            ],
            "application/vnd.google.colaboratory.intrinsic+json": {
              "type": "string"
            }
          },
          "metadata": {},
          "execution_count": 6
        }
      ]
    },
    {
      "cell_type": "code",
      "source": [
        "email = 'camilaw@gamil.com'\n",
        "\n",
        "extrair = email[2:3]\n",
        "print (extrair)\n"
      ],
      "metadata": {
        "colab": {
          "base_uri": "https://localhost:8080/"
        },
        "id": "St0nVzMpzoTm",
        "outputId": "b4466f3b-ec54-42ef-c8ac-650b13e4e69b"
      },
      "execution_count": null,
      "outputs": [
        {
          "output_type": "stream",
          "name": "stdout",
          "text": [
            "m\n"
          ]
        }
      ]
    },
    {
      "cell_type": "code",
      "source": [
        "noticia = 'Selic vai a 2,75% e supera expectativas; é a primeira alta em 6 anos.'\n",
        "\n",
        "extrair = noticia[11:17]\n",
        "print(extrair)\n",
        "\n",
        "extrair = noticia[61:63]\n",
        "print(extrair)"
      ],
      "metadata": {
        "colab": {
          "base_uri": "https://localhost:8080/",
          "height": 0
        },
        "id": "vjkiwjYIHPPS",
        "outputId": "47ce225f-82b6-434e-8281-ea2e3f50a269"
      },
      "execution_count": 5,
      "outputs": [
        {
          "output_type": "stream",
          "name": "stdout",
          "text": [
            " 2,75%\n",
            " 6\n"
          ]
        }
      ]
    },
    {
      "cell_type": "code",
      "source": [
        "\n",
        "idade = 18\n",
        "conceder_acesso = idade >= 18\n",
        "\n",
        "print(conceder_acesso)"
      ],
      "metadata": {
        "colab": {
          "base_uri": "https://localhost:8080/"
        },
        "id": "EAEKHhLqVn4I",
        "outputId": "1470c5c2-38b2-433a-e588-a34fd0078510"
      },
      "execution_count": null,
      "outputs": [
        {
          "output_type": "stream",
          "name": "stdout",
          "text": [
            "True\n"
          ]
        }
      ]
    },
    {
      "cell_type": "code",
      "source": [
        "idade = 15\n",
        "conceder_acesso = idade >= 18\n",
        "\n",
        "print(conceder_acesso)"
      ],
      "metadata": {
        "colab": {
          "base_uri": "https://localhost:8080/"
        },
        "id": "uguDr8WlXmoS",
        "outputId": "a16f60de-75b5-4b68-bf97-0f43cfd00850"
      },
      "execution_count": null,
      "outputs": [
        {
          "output_type": "stream",
          "name": "stdout",
          "text": [
            "False\n"
          ]
        }
      ]
    },
    {
      "cell_type": "markdown",
      "source": [
        "# ***ATIVIDADE 1 E 2 ***\n",
        "\n",
        "> GOOGLE COLAB E NUMEROS\n",
        "\n",
        "\n"
      ],
      "metadata": {
        "id": "s3ZUIYxUBzvH"
      }
    },
    {
      "cell_type": "code",
      "source": [
        "\n",
        " sqv = 3\n",
        " tkt = 320.52\n",
        " svv = sqv * tkt\n",
        "\n",
        " print(svv)"
      ],
      "metadata": {
        "colab": {
          "base_uri": "https://localhost:8080/"
        },
        "id": "YZB0PV8J9Ex8",
        "outputId": "c1491518-df55-456e-be12-a6a82da822a1"
      },
      "execution_count": null,
      "outputs": [
        {
          "output_type": "stream",
          "name": "stdout",
          "text": [
            "961.56\n"
          ]
        }
      ]
    },
    {
      "cell_type": "code",
      "source": [
        "sqv = svv * tkt\n",
        "tkt = 119.21\n",
        "svv = 834.47\n",
        "\n",
        "print(sqv)"
      ],
      "metadata": {
        "colab": {
          "base_uri": "https://localhost:8080/"
        },
        "id": "W7JkI7S-UBtA",
        "outputId": "ba06ce98-8ecc-4677-c39c-1207e520aa97"
      },
      "execution_count": null,
      "outputs": [
        {
          "output_type": "stream",
          "name": "stdout",
          "text": [
            "308199.21119999996\n"
          ]
        }
      ]
    },
    {
      "cell_type": "code",
      "source": [
        "sqv = 5\n",
        "svv = 15378.12\n",
        "tkt = sqv / svv\n",
        "\n",
        "print(tkt)"
      ],
      "metadata": {
        "colab": {
          "base_uri": "https://localhost:8080/"
        },
        "id": "j_HuHVvSUwRf",
        "outputId": "4a171a9b-9a36-4744-fa69-7fb9fcf936d6"
      },
      "execution_count": null,
      "outputs": [
        {
          "output_type": "stream",
          "name": "stdout",
          "text": [
            "0.0003251372729566423\n"
          ]
        }
      ]
    },
    {
      "cell_type": "code",
      "execution_count": null,
      "metadata": {
        "colab": {
          "base_uri": "https://localhost:8080/"
        },
        "id": "KcCC37On3eBk",
        "outputId": "85d6b241-0d62-4f5b-a80f-a6fd105ffd00"
      },
      "outputs": [
        {
          "output_type": "stream",
          "name": "stdout",
          "text": [
            "ola, mundo da computação, estou ansiosa para te desvendar.\n"
          ]
        }
      ],
      "source": [
        "print (\"ola, mundo da computação, estou ansiosa para te desvendar.\")"
      ]
    }
  ]
}