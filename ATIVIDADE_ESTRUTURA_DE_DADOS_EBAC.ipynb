{
  "nbformat": 4,
  "nbformat_minor": 0,
  "metadata": {
    "colab": {
      "provenance": [],
      "authorship_tag": "ABX9TyNBacRMbxb2G2A+7eRgOamU",
      "include_colab_link": true
    },
    "kernelspec": {
      "name": "python3",
      "display_name": "Python 3"
    },
    "language_info": {
      "name": "python"
    }
  },
  "cells": [
    {
      "cell_type": "markdown",
      "metadata": {
        "id": "view-in-github",
        "colab_type": "text"
      },
      "source": [
        "<a href=\"https://colab.research.google.com/github/JuliaFaraone/CARTORIOEBAC/blob/main/ATIVIDADE_ESTRUTURA_DE_DADOS_EBAC.ipynb\" target=\"_parent\"><img src=\"https://colab.research.google.com/assets/colab-badge.svg\" alt=\"Open In Colab\"/></a>"
      ]
    },
    {
      "cell_type": "markdown",
      "source": [
        "## **EXERCICIO** 1 - **LISTAS**\n"
      ],
      "metadata": {
        "id": "xb2BABBuY7ZB"
      }
    },
    {
      "cell_type": "code",
      "execution_count": null,
      "metadata": {
        "colab": {
          "base_uri": "https://localhost:8080/"
        },
        "id": "BraISKwaQ6Lj",
        "outputId": "d2da563a-28f6-4afb-e64f-5dfa47a0e9e5"
      },
      "outputs": [
        {
          "output_type": "stream",
          "name": "stdout",
          "text": [
            "['ranck_01  O Poderoso Chefão', 'ranck_02  Um Sonho de Liberdade', 'ranck_03  O Poderoso Chefão II ', 'ranck_04  A Origem', 'ranck_05  Clube da Luta', 'ranck_06  Batman: O Cavaleiro das Trevas', 'ranck_07  12 Homens e uma Sentença', 'ranck_08  O Senhor dos Anéis: A Sociedade do Anel', 'ranck_09  Matrix', 'ranck_010 Seven: Os Sete Crimes Capitais']\n"
          ]
        }
      ],
      "source": [
        "\n",
        " filmes = [ 'ranck_01  O Poderoso Chefão' ,\n",
        "\n",
        "            'ranck_02  Um Sonho de Liberdade' ,\n",
        "\n",
        "            'ranck_03  O Poderoso Chefão II ',\n",
        "\n",
        "            'ranck_04  A Origem' ,\n",
        "\n",
        "            'ranck_05  Clube da Luta',\n",
        "\n",
        "            'ranck_06  Batman: O Cavaleiro das Trevas',\n",
        "\n",
        "            'ranck_07  12 Homens e uma Sentença' ,\n",
        "\n",
        "            'ranck_08  O Senhor dos Anéis: A Sociedade do Anel' ,\n",
        "\n",
        "            'ranck_09  Matrix' ,\n",
        "\n",
        "            'ranck_010 Seven: Os Sete Crimes Capitais'\n",
        "\n",
        "          ]\n",
        "print(filmes)"
      ]
    },
    {
      "cell_type": "markdown",
      "source": [
        "# **EXERCICOS** 2 - **CONJUNTOS**"
      ],
      "metadata": {
        "id": "MwBpzbWld7mD"
      }
    },
    {
      "cell_type": "code",
      "source": [
        "filmes = [  'O Poderoso Chefão' ,\n",
        "\n",
        "            'Um Sonho de Liberdade' ,\n",
        "\n",
        "            'O Poderoso Chefão II ',\n",
        "\n",
        "            'A Origem' ,\n",
        "\n",
        "            'Clube da Luta',\n",
        "\n",
        "            'Batman: O Cavaleiro das Trevas',\n",
        "\n",
        "            '12 Homens e uma Sentença' ,\n",
        "\n",
        "            'O Senhor dos Anéis: A Sociedade do Anel' ,\n",
        "\n",
        "            'Matrix' ,\n",
        "\n",
        "            'Os Sete Crimes Capitais'\n",
        "\n",
        "            'O Senhor dos Anéis: A Sociedade do Anel' ,\n",
        "\n",
        "            'Matrix' ,\n",
        "\n",
        "            'Os Sete Crimes Capitais'\n",
        "\n",
        "          ]\n",
        "print(filmes)"
      ],
      "metadata": {
        "colab": {
          "base_uri": "https://localhost:8080/"
        },
        "id": "-Cw9zSnVeKZ3",
        "outputId": "d9536d0c-3818-4e62-c0f5-4b421ff5911b"
      },
      "execution_count": null,
      "outputs": [
        {
          "output_type": "stream",
          "name": "stdout",
          "text": [
            "['O Poderoso Chefão', 'Um Sonho de Liberdade', 'O Poderoso Chefão II ', 'A Origem', 'Clube da Luta', 'Batman: O Cavaleiro das Trevas', '12 Homens e uma Sentença', 'O Senhor dos Anéis: A Sociedade do Anel', 'Matrix', 'Os Sete Crimes CapitaisO Senhor dos Anéis: A Sociedade do Anel', 'Matrix', 'Os Sete Crimes Capitais']\n"
          ]
        }
      ]
    },
    {
      "cell_type": "code",
      "source": [
        "print(filmes)\n",
        "print(type(filmes))"
      ],
      "metadata": {
        "colab": {
          "base_uri": "https://localhost:8080/"
        },
        "id": "wXN06QPPgwXI",
        "outputId": "c0b8b1d1-cd9d-4ef9-d773-0b34f735aa4e"
      },
      "execution_count": null,
      "outputs": [
        {
          "output_type": "stream",
          "name": "stdout",
          "text": [
            "['O Poderoso Chefão', 'Um Sonho de Liberdade', 'O Poderoso Chefão II ', 'A Origem', 'Clube da Luta', 'Batman: O Cavaleiro das Trevas', '12 Homens e uma Sentença', 'O Senhor dos Anéis: A Sociedade do Anel', 'Matrix', 'Os Sete Crimes CapitaisO Senhor dos Anéis: A Sociedade do Anel', 'Matrix', 'Os Sete Crimes Capitais']\n",
            "<class 'list'>\n"
          ]
        }
      ]
    },
    {
      "cell_type": "code",
      "source": [
        "print(set(filmes))\n",
        "print(type(set(filmes)))"
      ],
      "metadata": {
        "colab": {
          "base_uri": "https://localhost:8080/"
        },
        "id": "VaJETAfSg7RS",
        "outputId": "058394d6-b34e-4a0b-ab7d-f52087a132ce"
      },
      "execution_count": null,
      "outputs": [
        {
          "output_type": "stream",
          "name": "stdout",
          "text": [
            "{'O Poderoso Chefão', 'Batman: O Cavaleiro das Trevas', 'Matrix', '12 Homens e uma Sentença', 'O Poderoso Chefão II ', 'O Senhor dos Anéis: A Sociedade do Anel', 'Os Sete Crimes Capitais', 'Clube da Luta', 'Um Sonho de Liberdade', 'A Origem', 'Os Sete Crimes CapitaisO Senhor dos Anéis: A Sociedade do Anel'}\n",
            "<class 'set'>\n"
          ]
        }
      ]
    },
    {
      "cell_type": "markdown",
      "source": [],
      "metadata": {
        "id": "JETkL_oUhZFz"
      }
    },
    {
      "cell_type": "markdown",
      "source": [
        "# **EXERCICIO** 3 - **DICIONARIOS**"
      ],
      "metadata": {
        "id": "4__7lWhnhiyD"
      }
    },
    {
      "cell_type": "code",
      "source": [
        " filmes = {'O Poderoso Chefão' ,\n",
        "\n",
        "            'Um Sonho de Liberdade' ,\n",
        "\n",
        "            'O Poderoso Chefão II ',\n",
        "\n",
        "            'A Origem' ,\n",
        "\n",
        "            'Clube da Luta',\n",
        "\n",
        "            'Batman: O Cavaleiro das Trevas',\n",
        "\n",
        "            '12 Homens e uma Sentença' ,\n",
        "\n",
        "            'O Senhor dos Anéis: A Sociedade do Anel' ,\n",
        "\n",
        "            'Matrix' ,\n",
        "\n",
        "            'Os Sete Crimes Capitais'\n",
        "\n",
        "            'O Senhor dos Anéis: A Sociedade do Anel' ,\n",
        "\n",
        "            'Matrix' ,\n",
        "\n",
        "            'Os Sete Crimes Capitais'\n",
        " }\n",
        "\n",
        " print(filmes)"
      ],
      "metadata": {
        "colab": {
          "base_uri": "https://localhost:8080/"
        },
        "id": "lWKcUTQthp4V",
        "outputId": "54031c5e-ff74-403c-cc1c-86be64cf55bd"
      },
      "execution_count": null,
      "outputs": [
        {
          "output_type": "stream",
          "name": "stdout",
          "text": [
            "{'O Poderoso Chefão', 'Batman: O Cavaleiro das Trevas', '12 Homens e uma Sentença', 'O Poderoso Chefão II ', 'O Senhor dos Anéis: A Sociedade do Anel', 'Os Sete Crimes Capitais', 'Clube da Luta', 'Um Sonho de Liberdade', 'Matrix', 'Os Sete Crimes CapitaisO Senhor dos Anéis: A Sociedade do Anel', 'A Origem'}\n"
          ]
        }
      ]
    },
    {
      "cell_type": "code",
      "source": [
        "filmes = {\n",
        "    'top 10':  {\n",
        "        'O Poderoso Chefão':\n",
        "        {'data': '15/03/1972',\n",
        "          'sinopse': 'Um poderoso chefão da máfia italiana transfere o controle de seu império para seu filho relutante.'},\n",
        "\n",
        "        'Um Sonho de Liberdade':\n",
        "        {'data': '14/10/1994',\n",
        "         'sinopse': 'Um banqueiro condenado à prisão perpétua procura a redenção ao longo de décadas de amizade com outro prisioneiro.'},\n",
        "\n",
        "        'O Poderoso Chefão II':\n",
        "        {'data': '20/12/1974',\n",
        "          'sinopse': 'A ascensão de um jovem Vito Corleone em paralelo com a trajetória de seu filho Michael como o novo chefe da família Corleone.'},\n",
        "\n",
        "        'A Origem':\n",
        "        {'data de lançamento': '16/07/2010',\n",
        "          'sinopse': 'Um ladrão especializado em roubar segredos corporativos através do uso de tecnologia de compartilhamento de sonhos é contratado para realizar uma tarefa quase impossível: implantar uma ideia na mente de um CEO.'},\n",
        "\n",
        "        'Clube da Luta':\n",
        "        {'data de lançamento': '12/11/1999',\n",
        "          'sinopse': 'Um homem insone forma um clube de luta clandestino com um vendedor de sabonetes excêntrico e logo se vê envolvido em uma situação cada vez mais fora de controle.'},\n",
        "\n",
        "        'Batman: O Cavaleiro das Trevas':\n",
        "        {'data de lançamento': '18/07/2008',\n",
        "          'sinopse': 'Quando o crime em Gotham City atinge níveis alarmantes, o Batman enfrenta um vilão disforme conhecido como Coringa, enquanto equilibra as pressões de sua vida dupla.'},\n",
        "\n",
        "        '12 Homens e uma Sentença':\n",
        "        {'data de lançamento': '10/04/1957',\n",
        "          'sinopse': 'Doze jurados devem decidir o destino de um jovem acusado de homicídio, enquanto enfrentam suas próprias preconcepções e preconceitos.'},\n",
        "\n",
        "        'O Senhor dos Anéis: A Sociedade do Anel':\n",
        "        {'data de lançamento': '19/12/2001',\n",
        "         'sinopse': 'Um jovem hobbit chamado Frodo Bolseiro embarca em uma jornada épica para destruir um poderoso anel e salvar seu mundo da escuridão.'},\n",
        "\n",
        "        'Matrix':\n",
        "        {'data de lançamento': '31/03/1999',\n",
        "          'sinopse': 'Um hacker de computador descobre que o mundo em que vive é uma simulação controlada por máquinas, e se junta a uma rebelião de humanos contra seus opressores tecnológicos.'},\n",
        "\n",
        "        'Seven: Os Sete Crimes Capitais':\n",
        "        {'data de lançamento': '22/09/1995',\n",
        "          'sinopse': 'Dois detetives investigam uma série de assassinatos grotescos inspirados nos sete pecados capitais.'}\n",
        "    }\n",
        "}\n",
        "\n",
        "print(filmes)\n"
      ],
      "metadata": {
        "id": "ThdrRfiwpi8-",
        "colab": {
          "base_uri": "https://localhost:8080/"
        },
        "outputId": "08d8c69d-372a-408d-94f4-74d5d4d44f27"
      },
      "execution_count": null,
      "outputs": [
        {
          "output_type": "stream",
          "name": "stdout",
          "text": [
            "{'top 10': {'O Poderoso Chefão': {'data': '15/03/1972', 'sinopse': 'Um poderoso chefão da máfia italiana transfere o controle de seu império para seu filho relutante.'}, 'Um Sonho de Liberdade': {'data': '14/10/1994', 'sinopse': 'Um banqueiro condenado à prisão perpétua procura a redenção ao longo de décadas de amizade com outro prisioneiro.'}, 'O Poderoso Chefão II': {'data': '20/12/1974', 'sinopse': 'A ascensão de um jovem Vito Corleone em paralelo com a trajetória de seu filho Michael como o novo chefe da família Corleone.'}, 'A Origem': {'data de lançamento': '16/07/2010', 'sinopse': 'Um ladrão especializado em roubar segredos corporativos através do uso de tecnologia de compartilhamento de sonhos é contratado para realizar uma tarefa quase impossível: implantar uma ideia na mente de um CEO.'}, 'Clube da Luta': {'data de lançamento': '12/11/1999', 'sinopse': 'Um homem insone forma um clube de luta clandestino com um vendedor de sabonetes excêntrico e logo se vê envolvido em uma situação cada vez mais fora de controle.'}, 'Batman: O Cavaleiro das Trevas': {'data de lançamento': '18/07/2008', 'sinopse': 'Quando o crime em Gotham City atinge níveis alarmantes, o Batman enfrenta um vilão disforme conhecido como Coringa, enquanto equilibra as pressões de sua vida dupla.'}, '12 Homens e uma Sentença': {'data de lançamento': '10/04/1957', 'sinopse': 'Doze jurados devem decidir o destino de um jovem acusado de homicídio, enquanto enfrentam suas próprias preconcepções e preconceitos.'}, 'O Senhor dos Anéis: A Sociedade do Anel': {'data de lançamento': '19/12/2001', 'sinopse': 'Um jovem hobbit chamado Frodo Bolseiro embarca em uma jornada épica para destruir um poderoso anel e salvar seu mundo da escuridão.'}, 'Matrix': {'data de lançamento': '31/03/1999', 'sinopse': 'Um hacker de computador descobre que o mundo em que vive é uma simulação controlada por máquinas, e se junta a uma rebelião de humanos contra seus opressores tecnológicos.'}, 'Seven: Os Sete Crimes Capitais': {'data de lançamento': '22/09/1995', 'sinopse': 'Dois detetives investigam uma série de assassinatos grotescos inspirados nos sete pecados capitais.'}}}\n"
          ]
        }
      ]
    }
  ]
}